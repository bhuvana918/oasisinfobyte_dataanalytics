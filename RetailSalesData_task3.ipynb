{
  "nbformat": 4,
  "nbformat_minor": 0,
  "metadata": {
    "colab": {
      "provenance": []
    },
    "kernelspec": {
      "name": "python3",
      "display_name": "Python 3"
    },
    "language_info": {
      "name": "python"
    }
  },
  "cells": [
    {
      "cell_type": "code",
      "execution_count": 4,
      "metadata": {
        "colab": {
          "base_uri": "https://localhost:8080/"
        },
        "id": "3u3KnTmKMCsL",
        "outputId": "4e803c9f-cd44-4057-d239-c5d27e77231a"
      },
      "outputs": [
        {
          "output_type": "stream",
          "name": "stdout",
          "text": [
            "Dataset Info:\n",
            "<class 'pandas.core.frame.DataFrame'>\n",
            "RangeIndex: 1000 entries, 0 to 999\n",
            "Data columns (total 9 columns):\n",
            " #   Column            Non-Null Count  Dtype \n",
            "---  ------            --------------  ----- \n",
            " 0   Transaction ID    1000 non-null   int64 \n",
            " 1   Date              1000 non-null   object\n",
            " 2   Customer ID       1000 non-null   object\n",
            " 3   Gender            1000 non-null   object\n",
            " 4   Age               1000 non-null   int64 \n",
            " 5   Product Category  1000 non-null   object\n",
            " 6   Quantity          1000 non-null   int64 \n",
            " 7   Price per Unit    1000 non-null   int64 \n",
            " 8   Total Amount      1000 non-null   int64 \n",
            "dtypes: int64(5), object(4)\n",
            "memory usage: 70.4+ KB\n",
            "None\n",
            "\n",
            "Missing Values:\n",
            "Transaction ID      0\n",
            "Date                0\n",
            "Customer ID         0\n",
            "Gender              0\n",
            "Age                 0\n",
            "Product Category    0\n",
            "Quantity            0\n",
            "Price per Unit      0\n",
            "Total Amount        0\n",
            "dtype: int64\n"
          ]
        }
      ],
      "source": [
        "import pandas as pd\n",
        "\n",
        "# Load the dataset\n",
        "file_path = 'retail_sales_dataset.csv'  # Replace with your file path\n",
        "data = pd.read_csv(file_path)\n",
        "\n",
        "# Display basic information about the dataset\n",
        "print(\"Dataset Info:\")\n",
        "print(data.info())\n",
        "\n",
        "# Check for missing values\n",
        "print(\"\\nMissing Values:\")\n",
        "print(data.isnull().sum())\n"
      ]
    },
    {
      "cell_type": "code",
      "source": [
        "# Calculate basic statistics\n",
        "descriptive_stats = data.describe()\n",
        "\n",
        "# Calculate mode for numerical columns\n",
        "mode_stats = data.mode().iloc[0]\n",
        "\n",
        "# Display statistics\n",
        "print(\"\\nDescriptive Statistics:\")\n",
        "print(descriptive_stats)\n",
        "\n",
        "print(\"\\nMode Values:\")\n",
        "print(mode_stats)\n"
      ],
      "metadata": {
        "colab": {
          "base_uri": "https://localhost:8080/"
        },
        "id": "M6lnixqhU1JI",
        "outputId": "f69516d4-6786-4714-ed34-5c52bf80f271"
      },
      "execution_count": 5,
      "outputs": [
        {
          "output_type": "stream",
          "name": "stdout",
          "text": [
            "\n",
            "Descriptive Statistics:\n",
            "       Transaction ID         Age     Quantity  Price per Unit  Total Amount\n",
            "count     1000.000000  1000.00000  1000.000000     1000.000000   1000.000000\n",
            "mean       500.500000    41.39200     2.514000      179.890000    456.000000\n",
            "std        288.819436    13.68143     1.132734      189.681356    559.997632\n",
            "min          1.000000    18.00000     1.000000       25.000000     25.000000\n",
            "25%        250.750000    29.00000     1.000000       30.000000     60.000000\n",
            "50%        500.500000    42.00000     3.000000       50.000000    135.000000\n",
            "75%        750.250000    53.00000     4.000000      300.000000    900.000000\n",
            "max       1000.000000    64.00000     4.000000      500.000000   2000.000000\n",
            "\n",
            "Mode Values:\n",
            "Transaction ID               1\n",
            "Date                2023-05-16\n",
            "Customer ID            CUST001\n",
            "Gender                  Female\n",
            "Age                       43.0\n",
            "Product Category      Clothing\n",
            "Quantity                   4.0\n",
            "Price per Unit            50.0\n",
            "Total Amount              50.0\n",
            "Name: 0, dtype: object\n"
          ]
        }
      ]
    },
    {
      "cell_type": "code",
      "source": [
        "# Analyze top-selling products\n",
        "top_products = data.groupby('Quantity')['Price per Unit'].sum().sort_values(ascending=False).head(10)\n",
        "\n",
        "# Display top products\n",
        "print(\"\\nTop 10 Best-Selling Products:\")\n",
        "print(top_products)\n",
        "\n"
      ],
      "metadata": {
        "colab": {
          "base_uri": "https://localhost:8080/"
        },
        "id": "9xZiYgbXU1Lm",
        "outputId": "bb4dedf0-fde3-476f-a947-ebc197cd7c60"
      },
      "execution_count": 11,
      "outputs": [
        {
          "output_type": "stream",
          "name": "stdout",
          "text": [
            "\n",
            "Top 10 Best-Selling Products:\n",
            "Quantity\n",
            "3    48095\n",
            "4    46465\n",
            "1    44805\n",
            "2    40525\n",
            "Name: Price per Unit, dtype: int64\n"
          ]
        }
      ]
    },
    {
      "cell_type": "code",
      "source": [
        "import matplotlib.pyplot as plt\n",
        "import seaborn as sns\n",
        "\n",
        "\n",
        "# Bar chart for top-selling products\n",
        "plt.figure(figsize=(10, 6))\n",
        "top_products.plot(kind='bar')\n",
        "plt.title('Top 10 Best-Selling Products')\n",
        "plt.xlabel('Product')\n",
        "plt.ylabel('Sales')\n",
        "plt.xticks(rotation=45)\n",
        "plt.show()\n",
        "\n"
      ],
      "metadata": {
        "colab": {
          "base_uri": "https://localhost:8080/",
          "height": 566
        },
        "id": "sSZor-b5VGuZ",
        "outputId": "09ecf5cd-f026-4c8e-cec9-353450ef15f6"
      },
      "execution_count": 14,
      "outputs": [
        {
          "output_type": "display_data",
          "data": {
            "text/plain": [
              "<Figure size 1000x600 with 1 Axes>"
            ],
            "image/png": "[encoded data removed]"
          },
          "metadata": {}
        }
      ]
    },
    {
      "cell_type": "code",
      "source": [],
      "metadata": {
        "id": "toffUB6xU1P1"
      },
      "execution_count": null,
      "outputs": []
    }
  ]
}