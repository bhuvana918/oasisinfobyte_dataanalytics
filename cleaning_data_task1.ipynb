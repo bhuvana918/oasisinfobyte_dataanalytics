{
  "nbformat": 4,
  "nbformat_minor": 0,
  "metadata": {
    "colab": {
      "provenance": []
    },
    "kernelspec": {
      "name": "python3",
      "display_name": "Python 3"
    },
    "language_info": {
      "name": "python"
    }
  },
  "cells": [
    {
      "cell_type": "code",
      "execution_count": 2,
      "metadata": {
        "colab": {
          "base_uri": "https://localhost:8080/"
        },
        "id": "tT2p29gJ_5jk",
        "outputId": "27fc5b97-91d4-498f-d8c8-51050c7fc208"
      },
      "outputs": [
        {
          "output_type": "stream",
          "name": "stdout",
          "text": [
            "Number of duplicate rows: 0\n"
          ]
        }
      ],
      "source": [
        "import pandas as pd\n",
        "import numpy as np\n",
        "\n",
        "# Load the dataset\n",
        "file_path = \"dataset.csv\"  # Update this path as needed\n",
        "data = pd.read_csv(file_path)\n",
        "\n",
        "# 1. **Data Integrity**\n",
        "# Check for duplicates\n",
        "duplicates = data.duplicated()\n",
        "print(f\"Number of duplicate rows: {duplicates.sum()}\")\n",
        "data = data[~duplicates]\n",
        "\n",
        "\n"
      ]
    },
    {
      "cell_type": "code",
      "source": [
        "# 2. **Handling Missing Data**\n",
        "# Columns with missing data\n",
        "missing_summary = data.isnull().sum()\n",
        "print(\"Missing data summary:\")\n",
        "print(missing_summary)\n",
        "\n",
        "# Handle missing 'name' and 'host_name' by filling with \"Unknown\"\n",
        "data['name'] = data['name'].fillna('Unknown')\n",
        "data['host_name'] = data['host_name'].fillna('Unknown')\n",
        "\n",
        "# Handle missing 'reviews_per_month' by filling with 0 (no reviews)\n",
        "data['reviews_per_month'] = data['reviews_per_month'].fillna(0)\n",
        "\n",
        "# Drop rows with missing 'last_review' as it's non-critical or fill with a placeholder\n",
        "data['last_review'] = data['last_review'].fillna('No Review')"
      ],
      "metadata": {
        "colab": {
          "base_uri": "https://localhost:8080/"
        },
        "id": "3TdhZrIpArgH",
        "outputId": "42c889e3-22a4-4eb8-b61c-a067882d736d"
      },
      "execution_count": 3,
      "outputs": [
        {
          "output_type": "stream",
          "name": "stdout",
          "text": [
            "Missing data summary:\n",
            "id                                    0\n",
            "name                                 16\n",
            "host_id                               0\n",
            "host_name                            21\n",
            "neighbourhood_group                   0\n",
            "neighbourhood                         0\n",
            "latitude                              0\n",
            "longitude                             0\n",
            "room_type                             0\n",
            "price                                 0\n",
            "minimum_nights                        0\n",
            "number_of_reviews                     0\n",
            "last_review                       10052\n",
            "reviews_per_month                 10052\n",
            "calculated_host_listings_count        0\n",
            "availability_365                      0\n",
            "dtype: int64\n"
          ]
        }
      ]
    },
    {
      "cell_type": "code",
      "source": [
        "\n",
        "# 4. **Standardization**\n",
        "# Standardizing text case for consistency\n",
        "data['name'] = data['name'].str.title()\n",
        "data['host_name'] = data['host_name'].str.title()\n",
        "\n",
        "# Ensuring 'price' has no extreme values (outliers)\n",
        "data = data[data['price'] > 0]  # Remove listings with 0 or negative prices\n",
        "upper_price_limit = data['price'].quantile(0.99)  # Set the upper threshold at 99th percentile\n",
        "data = data[data['price'] <= upper_price_limit]"
      ],
      "metadata": {
        "id": "fCi1u_qjAriL"
      },
      "execution_count": 7,
      "outputs": []
    },
    {
      "cell_type": "code",
      "source": [
        "# 5. **Outlier Detection**\n",
        "# Example: Detecting outliers in 'minimum_nights'\n",
        "min_nights_upper_limit = data['minimum_nights'].quantile(0.99)\n",
        "data = data[data['minimum_nights'] <= min_nights_upper_limit]\n",
        "\n",
        "# 6. Save the cleaned dataset\n",
        "output_path = \"cleaned_AB_NYC_2019.csv\"\n",
        "data.to_csv(output_path, index=False)\n",
        "print(f\"Cleaned dataset saved to {output_path}\")"
      ],
      "metadata": {
        "colab": {
          "base_uri": "https://localhost:8080/"
        },
        "id": "85JMaZu6ArmG",
        "outputId": "4bec5ff7-00d4-49f8-8996-2581e84e1b82"
      },
      "execution_count": 5,
      "outputs": [
        {
          "output_type": "stream",
          "name": "stdout",
          "text": [
            "Cleaned dataset saved to cleaned_AB_NYC_2019.csv\n"
          ]
        }
      ]
    },
    {
      "cell_type": "code",
      "source": [
        "\n",
        "# 7. Summary of cleaned data\n",
        "print(data.info())\n",
        "print(data.describe())"
      ],
      "metadata": {
        "colab": {
          "base_uri": "https://localhost:8080/"
        },
        "id": "PixpOPdHAroM",
        "outputId": "df2adbf5-c7df-43a7-c7c5-bc4e6c7e6ba0"
      },
      "execution_count": 6,
      "outputs": [
        {
          "output_type": "stream",
          "name": "stdout",
          "text": [
            "<class 'pandas.core.frame.DataFrame'>\n",
            "Index: 47928 entries, 0 to 48894\n",
            "Data columns (total 16 columns):\n",
            " #   Column                          Non-Null Count  Dtype  \n",
            "---  ------                          --------------  -----  \n",
            " 0   id                              47928 non-null  int64  \n",
            " 1   name                            47928 non-null  object \n",
            " 2   host_id                         47928 non-null  int64  \n",
            " 3   host_name                       47928 non-null  object \n",
            " 4   neighbourhood_group             47928 non-null  object \n",
            " 5   neighbourhood                   47928 non-null  object \n",
            " 6   latitude                        47928 non-null  float64\n",
            " 7   longitude                       47928 non-null  float64\n",
            " 8   room_type                       47928 non-null  object \n",
            " 9   price                           47928 non-null  int64  \n",
            " 10  minimum_nights                  47928 non-null  int64  \n",
            " 11  number_of_reviews               47928 non-null  int64  \n",
            " 12  last_review                     47928 non-null  object \n",
            " 13  reviews_per_month               47928 non-null  float64\n",
            " 14  calculated_host_listings_count  47928 non-null  int64  \n",
            " 15  availability_365                47928 non-null  int64  \n",
            "dtypes: float64(3), int64(7), object(6)\n",
            "memory usage: 6.2+ MB\n",
            "None\n",
            "                 id       host_id      latitude     longitude         price  \\\n",
            "count  4.792800e+04  4.792800e+04  47928.000000  47928.000000  47928.000000   \n",
            "mean   1.904108e+07  6.781199e+07     40.728846    -73.951812    137.653209   \n",
            "std    1.096578e+07  7.865139e+07      0.054627      0.046262    103.927713   \n",
            "min    2.539000e+03  2.571000e+03     40.499790    -74.244420     10.000000   \n",
            "25%    9.492526e+06  7.883475e+06     40.689920    -73.982770     69.000000   \n",
            "50%    1.970095e+07  3.112076e+07     40.722810    -73.955410    105.000000   \n",
            "75%    2.914639e+07  1.074344e+08     40.763150    -73.935800    175.000000   \n",
            "max    3.648724e+07  2.743213e+08     40.913060    -73.712990    799.000000   \n",
            "\n",
            "       minimum_nights  number_of_reviews  reviews_per_month  \\\n",
            "count    47928.000000       47928.000000       47928.000000   \n",
            "mean         5.709126          23.545568           1.105395   \n",
            "std          8.383021          44.809209           1.605936   \n",
            "min          1.000000           0.000000           0.000000   \n",
            "25%          1.000000           1.000000           0.040000   \n",
            "50%          2.000000           5.000000           0.380000   \n",
            "75%          5.000000          24.000000           1.620000   \n",
            "max         40.000000         629.000000          58.500000   \n",
            "\n",
            "       calculated_host_listings_count  availability_365  \n",
            "count                    47928.000000      47928.000000  \n",
            "mean                         7.179457        111.484915  \n",
            "std                         33.120775        131.016075  \n",
            "min                          1.000000          0.000000  \n",
            "25%                          1.000000          0.000000  \n",
            "50%                          1.000000         43.000000  \n",
            "75%                          2.000000        222.000000  \n",
            "max                        327.000000        365.000000  \n"
          ]
        }
      ]
    },
    {
      "cell_type": "code",
      "source": [],
      "metadata": {
        "id": "Ups6Ia6jArsU"
      },
      "execution_count": null,
      "outputs": []
    },
    {
      "cell_type": "code",
      "source": [],
      "metadata": {
        "id": "Vc8D6hxoAruV"
      },
      "execution_count": null,
      "outputs": []
    },
    {
      "cell_type": "code",
      "source": [],
      "metadata": {
        "id": "eJR0MkzIAryD"
      },
      "execution_count": null,
      "outputs": []
    }
  ]
}